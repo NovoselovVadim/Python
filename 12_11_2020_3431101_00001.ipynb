{
  "nbformat": 4,
  "nbformat_minor": 0,
  "metadata": {
    "colab": {
      "name": "12.11.2020_3431101/00001.ipynb",
      "provenance": [],
      "collapsed_sections": [],
      "authorship_tag": "ABX9TyPdK2fvfr5PLrxnLSNK9QF1",
      "include_colab_link": true
    },
    "kernelspec": {
      "name": "python3",
      "display_name": "Python 3"
    }
  },
  "cells": [
    {
      "cell_type": "markdown",
      "metadata": {
        "id": "view-in-github",
        "colab_type": "text"
      },
      "source": [
        "<a href=\"https://colab.research.google.com/github/NovoselovVadim/Python/blob/master/12_11_2020_3431101_00001.ipynb\" target=\"_parent\"><img src=\"https://colab.research.google.com/assets/colab-badge.svg\" alt=\"Open In Colab\"/></a>"
      ]
    },
    {
      "cell_type": "code",
      "metadata": {
        "id": "hGBd39-zn9nK",
        "outputId": "84643ede-1140-420d-8397-5c3fe5578053",
        "colab": {
          "base_uri": "https://localhost:8080/"
        }
      },
      "source": [
        "def list_generate(n, max):# где n - кол-во элементов списка, а max - максимально возможное число в списке\n",
        "  for i in range(n):\n",
        "    x = random.randint(0, max)\n",
        "    data.append(x)\n",
        "def swap():\n",
        "  for a in reversed(range(n)):\n",
        "    for b in reversed(range(n - 1)):\n",
        "      if data[a] < data[b]:\n",
        "        continue\n",
        "      else:\n",
        "        data[a], data[b] = data[b], data[a]\n",
        "n = 10\n",
        "max = 20\n",
        "import random\n",
        "data = []\n",
        "list_generate(n, max)\n",
        "print('Исходный список:',data)\n",
        "swap()\n",
        "data.insert(0,data.pop())\n",
        "print('Отсортированный список:',data)"
      ],
      "execution_count": null,
      "outputs": [
        {
          "output_type": "stream",
          "text": [
            "Исходный список: [18, 1, 3, 8, 4, 16, 16, 14, 17, 1]\n",
            "Отсортированный список: [1, 1, 3, 4, 8, 14, 16, 16, 17, 18]\n"
          ],
          "name": "stdout"
        }
      ]
    }
  ]
}