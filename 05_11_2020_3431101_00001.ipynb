{
  "nbformat": 4,
  "nbformat_minor": 0,
  "metadata": {
    "colab": {
      "name": "05.11.2020_3431101/00001.ipynb",
      "provenance": [],
      "collapsed_sections": [],
      "authorship_tag": "ABX9TyPMqpHbhuwR86JP2aKWdbGs",
      "include_colab_link": true
    },
    "kernelspec": {
      "name": "python3",
      "display_name": "Python 3"
    }
  },
  "cells": [
    {
      "cell_type": "markdown",
      "metadata": {
        "id": "view-in-github",
        "colab_type": "text"
      },
      "source": [
        "<a href=\"https://colab.research.google.com/github/NovoselovVadim/Python/blob/master/05_11_2020_3431101_00001.ipynb\" target=\"_parent\"><img src=\"https://colab.research.google.com/assets/colab-badge.svg\" alt=\"Open In Colab\"/></a>"
      ]
    },
    {
      "cell_type": "code",
      "metadata": {
        "id": "Wxc2FnMGTyRy",
        "outputId": "23758b12-e53d-4e01-dd66-d3e5ca213332",
        "colab": {
          "base_uri": "https://localhost:8080/",
          "height": 86
        }
      },
      "source": [
        "def list_generate(n, max):# где n - кол-во элементов списка, а max - максимально возможное число в списке\n",
        "  for i in range(n):\n",
        "    x = random.randint(0, max)\n",
        "    data.append(x)\n",
        "\n",
        "n = 10\n",
        "max = 20\n",
        "import random\n",
        "data = []\n",
        "list_generate(n, max)\n",
        "data = sorted(data)\n",
        "print(\"Отсортированный список:\", data)\n",
        "required_number = 10 # Искомое число\n",
        "print('Искомое число:', required_number)\n",
        "n = (n-1)//2\n",
        "if required_number == data[n]:\n",
        "  print(\"Искомое число найдено👍🏻\")\n",
        "while data[n] != required_number:\n",
        "  if required_number == data[n]:\n",
        "    print(\"Искомое число найдено👍🏻\")\n",
        "  else:\n",
        "    if required_number < data[n]:\n",
        "      data=data[:n+1]\n",
        "    else:\n",
        "      data=data[n:]\n",
        "    if n == 0:\n",
        "      if required_number == data[:1] or required_number == data[0:]:\n",
        "        print(\"Искомое число найдено👍🏻\")\n",
        "        break\n",
        "      else:\n",
        "        print('Искомое число отсутствует в списке👎🏻')\n",
        "        break\n",
        "  n=n//2\n",
        "  if required_number == data[n]:\n",
        "    print(\"Искомое число найдено👍🏻\")\n",
        "'''\n",
        "Время выполнения:\n",
        "1: 0,946 сек\n",
        "2: 0,985 сек\n",
        "3: 0,848 сек\n",
        "4: 1,009 сек\n",
        "5: 1,589 сек\n",
        "6: 0,933 сек\n",
        "7: 0,940 сек\n",
        "8: 0,891 сек\n",
        "9: 1,054 сек\n",
        "10:1,078 сек\n",
        "'''"
      ],
      "execution_count": null,
      "outputs": [
        {
          "output_type": "stream",
          "text": [
            "Отсортированный список: [1, 2, 3, 4, 8, 9, 13, 14, 15, 20]\n",
            "Искомое число: 10\n",
            "Искомое число отсутствует в списке👎🏻\n"
          ],
          "name": "stdout"
        },
        {
          "output_type": "execute_result",
          "data": {
            "application/vnd.google.colaboratory.intrinsic+json": {
              "type": "string"
            },
            "text/plain": [
              "'\\nВремя выполнения:\\n1: 0,946 сек\\n2: 0,985 сек\\n3: 0,848 сек\\n4: 1,009 сек\\n5: 1,589 сек\\n6: 0,933 сек\\n7: 0,940 сек\\n8: 0,891 сек\\n9: 1,054 сек\\n10:\\n'"
            ]
          },
          "metadata": {
            "tags": []
          },
          "execution_count": 17
        }
      ]
    }
  ]
}